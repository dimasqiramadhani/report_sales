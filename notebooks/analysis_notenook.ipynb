{
 "cells": [
  {
   "cell_type": "code",
   "execution_count": null,
   "metadata": {},
   "outputs": [],
   "source": [
    "import pandas as pd\n",
    "import matplotlib.pyplot as plt\n",
    "\n",
    "# Load data\n",
    "file_path = '../data/sales_data.xlsx'\n",
    "data = pd.read_excel(file_path)\n",
    "\n",
    "# Display first few rows of the data\n",
    "data.head()\n",
    "\n",
    "# Total sales per product\n",
    "total_sales_per_product = data.groupby('Product')['Total Sales'].sum().reset_index()\n",
    "total_sales_per_product\n",
    "\n",
    "# Plot total sales per product\n",
    "plt.figure(figsize=(12, 8))\n",
    "plt.bar(total_sales_per_product['Product'], total_sales_per_product['Total Sales'], color='skyblue')\n",
    "plt.xlabel('Product')\n",
    "plt.ylabel('Total Sales')\n",
    "plt.title('Total Sales Per Product')\n",
    "plt.xticks(rotation=45)\n",
    "plt.tight_layout()\n",
    "plt.savefig('../reports/total_sales_per_product.png')\n",
    "plt.show()\n",
    "\n",
    "# Total sales over time\n",
    "total_sales_over_time = data.groupby('Date')['Total Sales'].sum().reset_index()\n",
    "total_sales_over_time\n",
    "\n",
    "# Plot total sales over time\n",
    "plt.figure(figsize=(12, 8))\n",
    "plt.plot(total_sales_over_time['Date'], total_sales_over_time['Total Sales'], marker='o', linestyle='-', color='orange')\n",
    "plt.xlabel('Date')\n",
    "plt.ylabel('Total Sales')\n",
    "plt.title('Total Sales Over Time')\n",
    "plt.xticks(rotation=45)\n",
    "plt.tight_layout()\n",
    "plt.savefig('../reports/total_sales_over_time.png')\n",
    "plt.show()"
   ]
  }
 ],
 "metadata": {
  "language_info": {
   "name": "python"
  }
 },
 "nbformat": 4,
 "nbformat_minor": 2
}
